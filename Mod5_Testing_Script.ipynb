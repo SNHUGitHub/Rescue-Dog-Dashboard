{
 "cells": [
  {
   "cell_type": "code",
   "execution_count": 1,
   "metadata": {
    "scrolled": true
   },
   "outputs": [
    {
     "name": "stdout",
     "output_type": "stream",
     "text": [
      "Successful insert?: True\n",
      "\n",
      "Read result: <pymongo.cursor.Cursor object at 0x7f296c4fb6d8>\n",
      "\n",
      "1 document(s) updated successfully.\n",
      "Updated data: {'breed': 'Husky'}\n",
      "True\n",
      "\n",
      "1 document(s) deleted successfully.\n",
      "Deleted data: {'animal_id': 'A720214'}\n",
      "True\n"
     ]
    }
   ],
   "source": [
    "# Import AnimalShelter class from Module_Five Python file\n",
    "from Mod5 import AnimalShelter\n",
    "\n",
    "# Define data dictionary \n",
    "data = {\"age_upon_outcome\" : \"3 years\",\n",
    "        \"animal_id\" : \"A720214\",\n",
    "        \"animal_type\" : \"Dog\",\n",
    "        \"breed\" : \"Labrador Retriever Mix\",\n",
    "        \"color\" : \"Red/White\",\n",
    "        \"date_of_birth\" : \"2013-02-04\",\n",
    "        \"datetime\" : \"2016-02-11 12:41:00\",\n",
    "        \"monthyear\" : \"2016-02-11T12:41:00\",\n",
    "        \"name\" : \"Blessing\",\n",
    "        \"outcome_subtype\" : \"\",\n",
    "        \"outcome_type\" : \"Adoption\",\n",
    "        \"sex_upon_outcome\" : \"Spayed Female\",\n",
    "        \"location_lat\" : 30.3870648199411,\n",
    "        \"location_long\" : -97.3684339731375,\n",
    "        \"age_upon_outcome_in_weeks\" : 157.504067460317}\n",
    "\n",
    "# Define search parameter\n",
    "search_parameter = {\"animal_id\" : \"A720214\"}\n",
    "\n",
    "# Instantiate an object of the AnimalShelter class\n",
    "animal_shelter_obj = AnimalShelter('aacuser', 'passwordPrompt()')\n",
    "\n",
    "# Call create method and print true/false regarding status of data insert \n",
    "insert_status = animal_shelter_obj.create(data)\n",
    "print(f\"Successful insert?: {insert_status}\")\n",
    "# New line\n",
    "print()\n",
    "\n",
    "# Call read method and print result\n",
    "results = animal_shelter_obj.read(search_parameter)\n",
    "print(f\"Read result: {results}\")\n",
    "# New line\n",
    "print()\n",
    "\n",
    "# Define data that needs to be updated, call update method, and then print result\n",
    "updated_data = {\"breed\" : \"Husky\"}\n",
    "updated_results = animal_shelter_obj.update(search_parameter, updated_data)\n",
    "print(updated_results)\n",
    "# New line\n",
    "print()\n",
    "\n",
    "# Call delete method and print result\n",
    "deleted_results = animal_shelter_obj.delete(search_parameter)\n",
    "print(deleted_results)"
   ]
  },
  {
   "cell_type": "code",
   "execution_count": 12,
   "metadata": {},
   "outputs": [
    {
     "data": {
      "text/plain": [
       "{'age_upon_outcome': '3 years',\n",
       " 'animal_id': 'A720214',\n",
       " 'animal_type': 'Dog',\n",
       " 'breed': 'Labrador Retriever Mix',\n",
       " 'color': 'Red/White',\n",
       " 'date_of_birth': '2013-02-04',\n",
       " 'datetime': '2016-02-11 12:41:00',\n",
       " 'monthyear': '2016-02-11T12:41:00',\n",
       " 'name': 'Blessing',\n",
       " 'outcome_subtype': '',\n",
       " 'outcome_type': 'Adoption',\n",
       " 'sex_upon_outcome': 'Spayed Female',\n",
       " 'location_lat': 30.3870648199411,\n",
       " 'location_long': -97.3684339731375,\n",
       " 'age_upon_outcome_in_weeks': 157.504067460317,\n",
       " '_id': ObjectId('64432eed6b0648d566a9932c')}"
      ]
     },
     "execution_count": 12,
     "metadata": {},
     "output_type": "execute_result"
    }
   ],
   "source": [
    "data"
   ]
  },
  {
   "cell_type": "code",
   "execution_count": null,
   "metadata": {},
   "outputs": [],
   "source": []
  }
 ],
 "metadata": {
  "kernelspec": {
   "display_name": "Python 3",
   "language": "python",
   "name": "python3"
  },
  "language_info": {
   "codemirror_mode": {
    "name": "ipython",
    "version": 3
   },
   "file_extension": ".py",
   "mimetype": "text/x-python",
   "name": "python",
   "nbconvert_exporter": "python",
   "pygments_lexer": "ipython3",
   "version": "3.6.9"
  }
 },
 "nbformat": 4,
 "nbformat_minor": 2
}
